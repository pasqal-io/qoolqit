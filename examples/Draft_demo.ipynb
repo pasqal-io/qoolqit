{
 "cells": [
  {
   "cell_type": "markdown",
   "id": "8df2b55d-1a8e-4e97-bae6-5bcf1e9df62b",
   "metadata": {},
   "source": [
    "# Pulser interface draft\n",
    "\n",
    "Note that some of the things here we could simply implement them in Pulser directly as they could also be beneficial there. One goal of QoolQit should be to limit and control the information from Pulser that the user interacts with. This can be as simple as redefining the display functions for certain objects, and providing convenience methods for accessing the most relevant information."
   ]
  },
  {
   "cell_type": "markdown",
   "id": "973d7503-6921-4bd5-a876-6b7bffc0de84",
   "metadata": {},
   "source": [
    "## Device\n",
    "\n",
    "Currently a minimal wrapper on the pulser Device serves to hide most of the hardware specific information provided there. From all the fields in the Pulser device, we should select which ones we want QoolQit users to interact with. \n",
    "\n",
    "Currently all the device information is no longer printed, and the `max_atom_num` has been renamed `max_n_qubits`."
   ]
  },
  {
   "cell_type": "code",
   "execution_count": null,
   "id": "6bf13938-7b47-421f-9e93-ef7cd2671d2b",
   "metadata": {},
   "outputs": [],
   "source": [
    "from __future__ import annotations\n",
    "\n",
    "from qoolqit import AnalogDevice, MockDevice\n",
    "\n",
    "MockDevice"
   ]
  },
  {
   "cell_type": "code",
   "execution_count": null,
   "id": "71fc12cd-a537-47ea-9c0c-c9eb76e61523",
   "metadata": {},
   "outputs": [],
   "source": [
    "print(MockDevice.max_n_qubits)"
   ]
  },
  {
   "cell_type": "code",
   "execution_count": null,
   "id": "4ed995ef-9cc8-4105-987a-904b715de166",
   "metadata": {},
   "outputs": [],
   "source": [
    "print(AnalogDevice.max_n_qubits)"
   ]
  },
  {
   "cell_type": "markdown",
   "id": "6170ff33-cdbc-4c5b-97a4-8047d0fddc8d",
   "metadata": {},
   "source": [
    "## Register\n",
    "Registers now display only the number of qubits:"
   ]
  },
  {
   "cell_type": "code",
   "execution_count": null,
   "id": "9ba1372a-ef80-45c7-a9d2-2531f99e2b0d",
   "metadata": {},
   "outputs": [],
   "source": [
    "from qoolqit import Register\n",
    "\n",
    "reg = Register.hexagon(1) \n",
    "\n",
    "print(reg)"
   ]
  },
  {
   "cell_type": "markdown",
   "id": "9d6376fa-517f-402d-a37e-65b8cac106a7",
   "metadata": {},
   "source": [
    "This info is directly available with a new property:"
   ]
  },
  {
   "cell_type": "code",
   "execution_count": null,
   "id": "437870cc-1ead-4eff-ad5a-b6cde36fb1de",
   "metadata": {},
   "outputs": [],
   "source": [
    "reg.n_qubits"
   ]
  },
  {
   "cell_type": "markdown",
   "id": "e5c9e34f-c450-4182-8131-b36bc9f125ce",
   "metadata": {},
   "source": [
    "Previous properties such as the qubit dictionary remain available"
   ]
  },
  {
   "cell_type": "code",
   "execution_count": null,
   "id": "ca3303d3-d2a7-4a18-80ba-3a8211042ad2",
   "metadata": {},
   "outputs": [],
   "source": [
    "reg.qubits"
   ]
  },
  {
   "cell_type": "markdown",
   "id": "6b487f08-0e78-4d3b-bfe9-b5efa6880613",
   "metadata": {},
   "source": [
    "## Waveforms\n",
    "\n",
    "Not much of a change but I introduced a piecewise linear waveform because I like this interface. It takes N durations and N+1 points corresponding to values at the start and end of each piece."
   ]
  },
  {
   "cell_type": "code",
   "execution_count": null,
   "id": "0ecdad80-39ea-415f-acc2-4c39c7ec4dd4",
   "metadata": {},
   "outputs": [],
   "source": [
    "from qoolqit import PWLWaveform\n",
    "\n",
    "wf = PWLWaveform([100, 200, 100], [0.0, 1.0, 1.0, 0.0])\n",
    "\n",
    "wf.draw()"
   ]
  },
  {
   "cell_type": "markdown",
   "id": "4c00edf6-4281-494d-a1b7-e3eae130b953",
   "metadata": {},
   "source": [
    "Other waveforms remain available with the same interface. I experimented with allowing them to be composed in time via multiplication."
   ]
  },
  {
   "cell_type": "code",
   "execution_count": null,
   "id": "1bcef163-e1ee-4768-93fc-13660508b9e8",
   "metadata": {},
   "outputs": [],
   "source": [
    "from qoolqit import RampWaveform\n",
    "\n",
    "wf = RampWaveform(100, 0.0, 1.0)\n",
    "\n",
    "wf_comp = wf * wf\n",
    "\n",
    "wf_comp.draw()"
   ]
  },
  {
   "cell_type": "markdown",
   "id": "a05e4395-cd07-4635-b99b-cd93ec381061",
   "metadata": {},
   "source": [
    "## Pulse\n",
    "\n",
    "All arguments for the pulse are now optional, but at least the amplitude or the detuning need to be passed."
   ]
  },
  {
   "cell_type": "code",
   "execution_count": null,
   "id": "1155079f-1b27-40e4-b6a5-bd0622c36760",
   "metadata": {},
   "outputs": [],
   "source": [
    "from qoolqit import Pulse, PWLWaveform\n",
    "\n",
    "wf = PWLWaveform([100, 200, 100], [0.0, 1.0, 1.0, 0.0])\n",
    "\n",
    "pulse = Pulse(amplitude = wf)\n",
    "\n",
    "pulse.draw()"
   ]
  },
  {
   "cell_type": "code",
   "execution_count": null,
   "id": "86347ef2-7c8d-454a-98d2-80434a9e9978",
   "metadata": {},
   "outputs": [],
   "source": [
    "try:\n",
    "    Pulse()\n",
    "except TypeError as error:\n",
    "    print(error)"
   ]
  },
  {
   "cell_type": "markdown",
   "id": "243749a1-7746-4585-9313-abe7e0d40f24",
   "metadata": {},
   "source": [
    "## Sequence\n",
    "\n",
    "The Sequence now skips the need for channel declaration, it just sets a rydberg global channel. The default interface for initializing a sequence remains the same."
   ]
  },
  {
   "cell_type": "code",
   "execution_count": null,
   "id": "64f9edee-03ac-4ff4-b83f-ada64c09e528",
   "metadata": {},
   "outputs": [],
   "source": [
    "from qoolqit import MockDevice, Pulse, PWLWaveform, Register, Sequence\n",
    "\n",
    "reg = Register.hexagon(1)\n",
    "\n",
    "wf_amp = PWLWaveform([100, 200, 100], [0.0, 1.0, 1.0, 0.0])\n",
    "wf_det = PWLWaveform([100, 200, 100], [-1.0, -1.0, 1.0, 1.0])\n",
    "\n",
    "pulse = Pulse(wf_amp, wf_det)\n",
    "\n",
    "seq = Sequence(reg, MockDevice)\n",
    "\n",
    "seq.add(pulse)\n",
    "\n",
    "seq.draw()"
   ]
  },
  {
   "cell_type": "markdown",
   "id": "6179605d-ebf8-4ecb-85a7-342b0b856038",
   "metadata": {},
   "source": [
    "## Sequence with weights\n",
    "\n",
    "To include the weighted detuning term, the weights need to be passed at sequence initialization, which under the hood will create the necessary DMM channel."
   ]
  },
  {
   "cell_type": "code",
   "execution_count": null,
   "id": "a360d1a5-bb08-4125-9fc7-3502f0f955c9",
   "metadata": {},
   "outputs": [],
   "source": [
    "from qoolqit import MockDevice, Pulse, PWLWaveform, Register, Sequence\n",
    "\n",
    "reg = Register.hexagon(1)\n",
    "\n",
    "wf_amp = PWLWaveform([100, 200, 100], [0.0, 1.0, 1.0, 0.0])\n",
    "wf_det = PWLWaveform([100, 200, 100], [-1.0, -1.0, 1.0, 1.0])\n",
    "\n",
    "pulse = Pulse(wf_amp, wf_det)\n",
    "\n",
    "weights = {\n",
    "    0: 1.0,\n",
    "    1: 0.2,\n",
    "}\n",
    "\n",
    "seq = Sequence(reg, MockDevice, weights)\n",
    "\n",
    "seq.add(pulse)\n",
    "\n",
    "wf_dmm = PWLWaveform([100, 200, 100], [0.0, -1.0, -1.0, 0.0])\n",
    "\n",
    "seq.add_weighted_detuning(wf_dmm)\n",
    "\n",
    "seq.draw()"
   ]
  },
  {
   "cell_type": "markdown",
   "id": "56c0dd38-5eae-4b2d-b5c4-c66080724c34",
   "metadata": {},
   "source": [
    "Note we didn't set weights for all the qubits. Following the Pulser implementation, the remaining ones get set to 0. A new property allows inspecting the sequence weights."
   ]
  },
  {
   "cell_type": "code",
   "execution_count": null,
   "id": "dfdc1770-e295-41ca-bc80-a4b7002f929e",
   "metadata": {},
   "outputs": [],
   "source": [
    "seq.weights"
   ]
  },
  {
   "cell_type": "markdown",
   "id": "73dfacfd-f8c7-49e8-b3dd-9c8c39151920",
   "metadata": {},
   "source": [
    "# Notes\n",
    "\n",
    "- This approach tries not to deviate too much from Pulser. I also thought about a completely different direction like having the user initialize hamiltonian terms like `Amplitude`, `Detuning`, `Interaction` which would take in waveforms (or a register for the `Interaction`), and then having a separate class for program compilation that would create \n",
    "- I have not yet explored the Layout.\n",
    "- Do we want to allow single-qubit addressability in the interface? I would still skip the whole channel declaration interface, and probably do that through some `qubit_support` or `target` argument for each `Pulse`. Then if a `Pulse` is added to the `Sequence` that targets a specific qubit, the right channel is declared automatically.\n",
    "- I would like to have the option to use the dimensionless model but I have not yet experimented with how I would implement it. Doing the conversions at the level of the Sequence would be easy, but we probably would need a more complex wrapper on the Waveforms to allow non-integer durations. Also, we would need to rework some of the drawing."
   ]
  },
  {
   "cell_type": "code",
   "execution_count": null,
   "id": "928eea50-8df7-4280-a5a0-7edc0a479e5e",
   "metadata": {},
   "outputs": [],
   "source": []
  }
 ],
 "metadata": {
  "kernelspec": {
   "display_name": "Python 3 (ipykernel)",
   "language": "python",
   "name": "python3"
  },
  "language_info": {
   "codemirror_mode": {
    "name": "ipython",
    "version": 3
   },
   "file_extension": ".py",
   "mimetype": "text/x-python",
   "name": "python",
   "nbconvert_exporter": "python",
   "pygments_lexer": "ipython3",
   "version": "3.12.1"
  }
 },
 "nbformat": 4,
 "nbformat_minor": 5
}
