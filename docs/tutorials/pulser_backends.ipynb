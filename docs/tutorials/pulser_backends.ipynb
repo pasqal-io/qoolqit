{
 "cells": [
  {
   "cell_type": "markdown",
   "id": "09ada170",
   "metadata": {},
   "source": [
    "# Pulser backends\n",
    "\n",
    "A `QuantumProgram` can be easily run on multiple backends provided by Pasqal:\n",
    "- locally emulators ()\n",
    "- remote cloud emulators\n",
    "\n",
    "Remote emulators and QPU require credentials to submit a job."
   ]
  },
  {
   "cell_type": "markdown",
   "id": "40637790",
   "metadata": {},
   "source": [
    "### A basic analog quantum program"
   ]
  },
  {
   "cell_type": "code",
   "execution_count": 20,
   "id": "70f6c1dc",
   "metadata": {},
   "outputs": [],
   "source": [
    "from pulser import Pulse, Register, Sequence\n",
    "from pulser.devices import AnalogDevice\n",
    "\n",
    "seq = Sequence(Register.square(2, spacing=6, prefix=\"q\"), device=AnalogDevice)\n",
    "seq.declare_channel(\"rydberg\",\"rydberg_global\")\n",
    "seq.add(Pulse.ConstantPulse(444, 1, 0, 0), \"rydberg\")"
   ]
  },
  {
   "cell_type": "markdown",
   "id": "50e10de7",
   "metadata": {},
   "source": [
    "### Import the entry point backend"
   ]
  },
  {
   "cell_type": "code",
   "execution_count": 21,
   "id": "e558f8c4",
   "metadata": {},
   "outputs": [
    {
     "name": "stdout",
     "output_type": "stream",
     "text": [
      "QPUBackend QutipBackend QutipBackendV2 EmuFreeBackend EmuTNBackend\n"
     ]
    }
   ],
   "source": [
    "from qoolqit.pulserbackend import PulserBackend\n",
    "\n",
    "PulserBackend.available_backends()"
   ]
  },
  {
   "cell_type": "markdown",
   "id": "b74bb8db",
   "metadata": {},
   "source": [
    "### Local backends emulators"
   ]
  },
  {
   "cell_type": "code",
   "execution_count": 22,
   "id": "b50f944b",
   "metadata": {},
   "outputs": [],
   "source": [
    "from emu_sv import SVBackend\n",
    "\n",
    "backend = PulserBackend(backend_type=SVBackend)\n",
    "result = backend.run(seq)"
   ]
  },
  {
   "cell_type": "code",
   "execution_count": 23,
   "id": "6130a4b6",
   "metadata": {},
   "outputs": [],
   "source": [
    "from pulser_simulation import QutipBackendV2\n",
    "\n",
    "backend = PulserBackend(backend_type=QutipBackendV2)\n",
    "result = backend.run(seq)"
   ]
  },
  {
   "cell_type": "code",
   "execution_count": 24,
   "id": "e06cba38",
   "metadata": {},
   "outputs": [],
   "source": [
    "from emu_mps import MPSBackend\n",
    "\n",
    "backend = PulserBackend(backend_type=MPSBackend)\n",
    "result = backend.run(seq)"
   ]
  }
 ],
 "metadata": {
  "kernelspec": {
   "display_name": "qoolqit",
   "language": "python",
   "name": "python3"
  },
  "language_info": {
   "codemirror_mode": {
    "name": "ipython",
    "version": 3
   },
   "file_extension": ".py",
   "mimetype": "text/x-python",
   "name": "python",
   "nbconvert_exporter": "python",
   "pygments_lexer": "ipython3",
   "version": "3.12.11"
  }
 },
 "nbformat": 4,
 "nbformat_minor": 5
}
