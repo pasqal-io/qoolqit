{
 "cells": [
  {
   "cell_type": "markdown",
   "id": "5e37c4fb",
   "metadata": {},
   "source": [
    "# Solving a basic QUBO problem\n",
    "\n",
    "A QUBO instance on $N$ variables consists in a symmetric matrix $Q$ of size $N\\times N$, and solving a QUBO problems means to find the bitstring $z=(z_1,...,z_N)\\in\\{0, 1\\}^N$ that minimizes the quantity\n",
    "\n",
    "$$\n",
    "f(z) = z^TQz\n",
    "$$\n",
    "\n",
    "## Problem generation\n",
    "\n",
    "Many real-world problems can be mapped to a QUBO problem, which means to create the matrix $Q$ that encodes the problem to solve. For the purpose of this tutorial we assume this task has already been performed and we are given the matrix $Q$, such as the one below:"
   ]
  },
  {
   "cell_type": "code",
   "execution_count": 1,
   "id": "f7a9b02b",
   "metadata": {},
   "outputs": [],
   "source": [
    "import numpy as np\n",
    "\n",
    "Q = np.array([\n",
    "        [-10.0, 19.7365809, 19.7365809, 5.42015853, 5.42015853],\n",
    "        [19.7365809, -10.0, 20.67626392, 0.17675796, 0.85604541],\n",
    "        [19.7365809, 20.67626392, -10.0, 0.85604541, 0.17675796],\n",
    "        [5.42015853, 0.17675796, 0.85604541, -10.0, 0.32306662],\n",
    "        [5.42015853, 0.85604541, 0.17675796, 0.32306662, -10.0],\n",
    "])"
   ]
  },
  {
   "cell_type": "markdown",
   "id": "8abf82bf",
   "metadata": {},
   "source": [
    "QUBO problems are scale-invariant, and so we can work with the normalized matrix $\\tilde{Q}=Q/\\text{max}(Q)$ instead.\n",
    "\n",
    "Before showing how to solve this QUBO instance in the Rydberg analog model, we can compute the optimal solutions classically to compare. For that we do a brute force cost calculation over all possible bitstrings, which scales exponentially with the number of variables. This is only possible because we are dealing with a small QUBO."
   ]
  },
  {
   "cell_type": "code",
   "execution_count": 2,
   "id": "beca62b8",
   "metadata": {},
   "outputs": [
    {
     "name": "stdout",
     "output_type": "stream",
     "text": [
      "Two best solutions:  ['01011' '00111']\n",
      "Respective costs:  [-1.31978679 -1.31978679]\n"
     ]
    }
   ],
   "source": [
    "# Normalize QUBO matrix\n",
    "Q = Q/Q.max()\n",
    "\n",
    "# Classical solution\n",
    "bitstrings = np.array([np.binary_repr(i, len(Q)) for i in range(2 ** len(Q))])\n",
    "bitstring_lists = np.array([np.array(list(b), dtype=int) for b in bitstrings])\n",
    "costs = np.array([z.T @ Q @ z for z in bitstring_lists])\n",
    "idx_sort = np.argsort(costs).tolist()\n",
    "\n",
    "sorted_costs = costs[idx_sort]\n",
    "sorted_bitstrings = bitstrings[idx_sort]\n",
    "\n",
    "print(\"Two best solutions: \", sorted_bitstrings[:2])\n",
    "print(\"Respective costs: \", sorted_costs[:2])\n",
    "\n",
    "# We save the two best solutions for plotting\n",
    "marked_bitstrings = sorted_bitstrings[:2]"
   ]
  }
 ],
 "metadata": {
  "kernelspec": {
   "display_name": "qoolqit",
   "language": "python",
   "name": "python3"
  },
  "language_info": {
   "codemirror_mode": {
    "name": "ipython",
    "version": 3
   },
   "file_extension": ".py",
   "mimetype": "text/x-python",
   "name": "python",
   "nbconvert_exporter": "python",
   "pygments_lexer": "ipython3",
   "version": "3.12.11"
  }
 },
 "nbformat": 4,
 "nbformat_minor": 5
}
