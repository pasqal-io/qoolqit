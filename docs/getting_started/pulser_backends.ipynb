{
 "cells": [
  {
   "cell_type": "markdown",
   "id": "09ada170",
   "metadata": {},
   "source": [
    "# Pulser backends\n",
    "\n",
    "A `QuantumProgram` can be easily run on multiple backends provided by Pasqal:\n",
    "- locally emulators ()\n",
    "- remote cloud emulators\n",
    "\n",
    "Remote emulators and QPU require credentials to submit a job."
   ]
  },
  {
   "cell_type": "markdown",
   "id": "40637790",
   "metadata": {},
   "source": [
    "### A basic analog quantum program"
   ]
  },
  {
   "cell_type": "code",
   "execution_count": null,
   "id": "70f6c1dc",
   "metadata": {},
   "outputs": [],
   "source": [
    "from pulser import Pulse, Register, Sequence\n",
    "from pulser.devices import AnalogDevice\n",
    "\n",
    "seq = Sequence(Register.square(2, spacing=6, prefix=\"q\"), device=AnalogDevice)\n",
    "seq.declare_channel(\"rydberg\",\"rydberg_global\")\n",
    "seq.add(Pulse.ConstantPulse(444, 1, 0, 0), \"rydberg\")"
   ]
  },
  {
   "cell_type": "markdown",
   "id": "50e10de7",
   "metadata": {},
   "source": [
    "### Import the entry point backend"
   ]
  },
  {
   "cell_type": "code",
   "execution_count": null,
   "id": "e558f8c4",
   "metadata": {},
   "outputs": [],
   "source": [
    "from qoolqit.pulserbackend import PulserBackend"
   ]
  },
  {
   "cell_type": "markdown",
   "id": "b74bb8db",
   "metadata": {},
   "source": [
    "### Local backends emulators"
   ]
  },
  {
   "cell_type": "code",
   "execution_count": null,
   "id": "b50f944b",
   "metadata": {},
   "outputs": [],
   "source": [
    "from emu_sv import SVBackend\n",
    "\n",
    "backend = PulserBackend(backend_type=SVBackend)\n",
    "result = backend.run(seq)"
   ]
  },
  {
   "cell_type": "code",
   "execution_count": null,
   "id": "6130a4b6",
   "metadata": {},
   "outputs": [],
   "source": [
    "from pulser_simulation import QutipBackendV2\n",
    "\n",
    "backend = PulserBackend(backend_type=QutipBackendV2)\n",
    "result = backend.run(seq)"
   ]
  },
  {
   "cell_type": "code",
   "execution_count": null,
   "id": "e06cba38",
   "metadata": {},
   "outputs": [],
   "source": [
    "from emu_mps import MPSBackend\n",
    "\n",
    "backend = PulserBackend(backend_type=MPSBackend)\n",
    "result = backend.run(seq)"
   ]
  },
  {
   "cell_type": "markdown",
   "id": "f7a8a45e",
   "metadata": {},
   "source": [
    "### Remote emulators"
   ]
  },
  {
   "cell_type": "code",
   "execution_count": null,
   "id": "08ba890f",
   "metadata": {},
   "outputs": [],
   "source": [
    "import os\n",
    "\n",
    "from pulser_pasqal import PasqalCloud\n",
    "\n",
    "USERNAME = os.getenv(\"PCP_USER\")\n",
    "PROJECT_ID = os.getenv(\"PCP_PROJECT_ID\")\n",
    "PASSWORD = os.getenv(\"PCP_PASSWORD\")\n",
    "\n",
    "connection = PasqalCloud(\n",
    "    username=USERNAME,  # Your username or email address for the Pasqal Cloud Platform\n",
    "    password=PASSWORD,  # The password for your Pasqal Cloud Platform account\n",
    "    project_id=PROJECT_ID,  # The ID of the project associated to your account\n",
    ")"
   ]
  },
  {
   "cell_type": "code",
   "execution_count": null,
   "id": "1cebde1e",
   "metadata": {},
   "outputs": [],
   "source": [
    "from pulser_pasqal.backends import EmuFreeBackendV2\n",
    "\n",
    "backend = PulserBackend(backend_type=EmuFreeBackendV2, connection=connection)\n",
    "#result = backend.run(seq)"
   ]
  },
  {
   "cell_type": "code",
   "execution_count": null,
   "id": "55914fa5",
   "metadata": {},
   "outputs": [],
   "source": [
    "from pulser_pasqal.backends import EmuMPSBackend\n",
    "\n",
    "backend = PulserBackend(backend_type=EmuMPSBackend, connection=connection)\n",
    "#result = backend.run(seq)"
   ]
  }
 ],
 "metadata": {
  "kernelspec": {
   "display_name": "qoolqit",
   "language": "python",
   "name": "python3"
  },
  "language_info": {
   "codemirror_mode": {
    "name": "ipython",
    "version": 3
   },
   "file_extension": ".py",
   "mimetype": "text/x-python",
   "name": "python",
   "nbconvert_exporter": "python",
   "pygments_lexer": "ipython3",
   "version": "3.12.11"
  }
 },
 "nbformat": 4,
 "nbformat_minor": 5
}
