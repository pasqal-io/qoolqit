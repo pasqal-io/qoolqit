{
 "cells": [
  {
   "cell_type": "markdown",
   "id": "09ada170",
   "metadata": {},
   "source": [
    "# Pulser backends\n",
    "\n",
    "A `QuantumProgram` can be easily run on multiple backends provided by Pasqal:\n",
    "- locally installed emulators\n",
    "- remote cloud emulators\n",
    "- QPUs\n",
    "\n",
    "Remote emulators and QPU **require** credentials to submit a job."
   ]
  },
  {
   "cell_type": "markdown",
   "id": "40637790",
   "metadata": {},
   "source": [
    "### A basic analog quantum program"
   ]
  },
  {
   "cell_type": "code",
   "execution_count": null,
   "id": "28c43ec9",
   "metadata": {},
   "outputs": [],
   "source": [
    "from qoolqit import Drive, PiecewiseLinear, QuantumProgram, Ramp, Register\n",
    "\n",
    "# Create the register\n",
    "register = Register.from_coordinates([(0,1), (0,-1)])\n",
    "\n",
    "# Defining the drive parameters\n",
    "omega = 0.8\n",
    "delta_i = -2.0 * omega\n",
    "delta_f = -delta_i\n",
    "T = 20.0\n",
    "\n",
    "# Defining the drive \n",
    "wf_amp = PiecewiseLinear([T/4, T/2, T/4], [0.0, omega, omega, 0.0])\n",
    "wf_det = Ramp(T, delta_i, delta_f)\n",
    "drive = Drive(amplitude = wf_amp, detuning = wf_det)\n",
    "\n",
    "# Writing the quantum program\n",
    "program = QuantumProgram(register, drive)\n",
    "program.draw()"
   ]
  },
  {
   "cell_type": "markdown",
   "id": "19f0458d",
   "metadata": {},
   "source": [
    "## Compile the program\n",
    "A program must be compiled to a specific device to be run."
   ]
  },
  {
   "cell_type": "code",
   "execution_count": null,
   "id": "9ee590fa",
   "metadata": {},
   "outputs": [],
   "source": [
    "from qoolqit import AnalogDevice\n",
    "\n",
    "program.compile_to(device=AnalogDevice())"
   ]
  },
  {
   "cell_type": "markdown",
   "id": "50e10de7",
   "metadata": {},
   "source": [
    "### Import the entry point backend"
   ]
  },
  {
   "cell_type": "code",
   "execution_count": null,
   "id": "e558f8c4",
   "metadata": {},
   "outputs": [],
   "source": [
    "from qoolqit.pulserbackend2 import PulserBackend"
   ]
  },
  {
   "cell_type": "markdown",
   "id": "b74bb8db",
   "metadata": {},
   "source": [
    "### Local backends emulators"
   ]
  },
  {
   "cell_type": "code",
   "execution_count": null,
   "id": "e9f058a9",
   "metadata": {},
   "outputs": [],
   "source": [
    "from emu_mps import MPSBackend\n",
    "from emu_sv import SVBackend\n",
    "from pulser_simulation import QutipBackendV2"
   ]
  },
  {
   "cell_type": "code",
   "execution_count": null,
   "id": "b50f944b",
   "metadata": {},
   "outputs": [],
   "source": [
    "backend = PulserBackend(backend_type=SVBackend)\n",
    "result = backend.run(program)"
   ]
  },
  {
   "cell_type": "code",
   "execution_count": null,
   "id": "6130a4b6",
   "metadata": {},
   "outputs": [],
   "source": [
    "backend = PulserBackend(backend_type=QutipBackendV2)\n",
    "result = backend.run(program)"
   ]
  },
  {
   "cell_type": "code",
   "execution_count": null,
   "id": "e06cba38",
   "metadata": {},
   "outputs": [],
   "source": [
    "backend = PulserBackend(backend_type=MPSBackend, runs=200) # evaluation_times\n",
    "result = backend.run(program)"
   ]
  },
  {
   "cell_type": "markdown",
   "id": "f7a8a45e",
   "metadata": {},
   "source": [
    "## Remote emulators"
   ]
  },
  {
   "cell_type": "markdown",
   "id": "8754d2dd",
   "metadata": {},
   "source": [
    "### Setup a Pasqal connection"
   ]
  },
  {
   "cell_type": "code",
   "execution_count": null,
   "id": "08ba890f",
   "metadata": {},
   "outputs": [],
   "source": [
    "import os\n",
    "\n",
    "from pulser_pasqal import PasqalCloud\n",
    "\n",
    "USERNAME = os.getenv(\"PCP_USER\")\n",
    "PROJECT_ID = os.getenv(\"PCP_PROJECT_ID\")\n",
    "PASSWORD = os.getenv(\"PCP_PASSWORD\")\n",
    "\n",
    "connection = PasqalCloud(\n",
    "    username=USERNAME,  # Your username or email address for the Pasqal Cloud Platform\n",
    "    password=PASSWORD,  # The password for your Pasqal Cloud Platform account\n",
    "    project_id=PROJECT_ID,  # The ID of the project associated to your account\n",
    ")"
   ]
  },
  {
   "cell_type": "markdown",
   "id": "1a8761d7",
   "metadata": {},
   "source": [
    "### Import remote backends emulators\n"
   ]
  },
  {
   "cell_type": "code",
   "execution_count": null,
   "id": "40431a8b",
   "metadata": {},
   "outputs": [],
   "source": [
    "from qoolqit.pulserbackend2 import PulserRemoteBackend\n",
    "from pulser_pasqal.backends import EmuFreeBackendV2, EmuMPSBackend  # soon: EmuSVBackend"
   ]
  },
  {
   "cell_type": "code",
   "execution_count": null,
   "id": "1cebde1e",
   "metadata": {},
   "outputs": [],
   "source": [
    "backend = PulserRemoteBackend(backend_type=EmuFreeBackendV2, connection=connection)\n",
    "#remote_result = backend.submit(program)"
   ]
  },
  {
   "cell_type": "code",
   "execution_count": null,
   "id": "55914fa5",
   "metadata": {},
   "outputs": [],
   "source": [
    "backend = PulserRemoteBackend(backend_type=EmuMPSBackend, connection=connection)\n",
    "#result = backend.run(program)"
   ]
  },
  {
   "cell_type": "markdown",
   "id": "bc0c062f",
   "metadata": {},
   "source": [
    "## QPU backend (Not supported yet)\n",
    "The same connection can also be used to send the program to run on an actual QPU."
   ]
  },
  {
   "cell_type": "code",
   "execution_count": null,
   "id": "b9af757d",
   "metadata": {},
   "outputs": [],
   "source": [
    "from pulser.backend import QPUBackend\n",
    "\n",
    "backend = PulserRemoteBackend(backend_type=QPUBackend, connection=connection)\n",
    "#result = backend.run(program)"
   ]
  }
 ],
 "metadata": {
  "kernelspec": {
   "display_name": "qoolqit",
   "language": "python",
   "name": "python3"
  },
  "language_info": {
   "codemirror_mode": {
    "name": "ipython",
    "version": 3
   },
   "file_extension": ".py",
   "mimetype": "text/x-python",
   "name": "python",
   "nbconvert_exporter": "python",
   "pygments_lexer": "ipython3",
   "version": "3.12.11"
  }
 },
 "nbformat": 4,
 "nbformat_minor": 5
}
